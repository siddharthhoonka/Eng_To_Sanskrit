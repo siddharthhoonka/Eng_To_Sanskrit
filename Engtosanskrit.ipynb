{
  "nbformat": 4,
  "nbformat_minor": 0,
  "metadata": {
    "colab": {
      "provenance": []
    },
    "kernelspec": {
      "name": "python3",
      "display_name": "Python 3"
    },
    "language_info": {
      "name": "python"
    }
  },
  "cells": [
    {
      "cell_type": "code",
      "source": [
        "import os\n",
        "import requests\n",
        "import json\n",
        "\n",
        "# Set up Groq API key (replace with your actual key)\n",
        "GROQ_API_KEY = \"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\"\n",
        "GROQ_API_URL = \"https://api.groq.com/openai/v1/chat/completions\"\n",
        "\n",
        "# Function to translate using Groq API directly\n",
        "def translate_with_groq(text):\n",
        "    headers = {\n",
        "        \"Authorization\": f\"Bearer {GROQ_API_KEY}\",\n",
        "        \"Content-Type\": \"application/json\"\n",
        "    }\n",
        "\n",
        "    data = {\n",
        "        \"model\": \"llama-3.3-70b-versatile\",  # Updated to the current production model\n",
        "        \"messages\": [\n",
        "            {\"role\": \"system\", \"content\": \"You are a helpful assistant.\"},\n",
        "            {\"role\": \"user\", \"content\": f\"Translate this English text to Sanskrit:\\n\\n{text}\"}\n",
        "        ],\n",
        "        \"temperature\": 0.7\n",
        "    }\n",
        "\n",
        "    response = requests.post(GROQ_API_URL, headers=headers, data=json.dumps(data))\n",
        "\n",
        "    if response.status_code == 200:\n",
        "        result = response.json()\n",
        "        translated_text = result['choices'][0]['message']['content']\n",
        "        return translated_text\n",
        "    else:\n",
        "        raise Exception(f\"Groq API Error: {response.status_code}, {response.text}\")\n",
        "\n",
        "if __name__ == \"__main__\":\n",
        "    print(\"=== English to Sanskrit Translator ===\")\n",
        "\n",
        "    # Take user input\n",
        "    text = input(\"\\nEnter the English text: \").strip()\n",
        "\n",
        "    if text:\n",
        "        try:\n",
        "            print(\"\\nTranslating using Groq...\")\n",
        "            translated_text = translate_with_groq(text)\n",
        "            print(f\"\\nSanskrit Translation:\\n{translated_text}\")\n",
        "        except Exception as e:\n",
        "            print(f\"\\nError: {e}\")\n",
        "    else:\n",
        "        print(\"\\nPlease enter valid text to translate.\")\n"
      ],
      "metadata": {
        "id": "sTFLeb1XVKDY",
        "colab": {
          "base_uri": "https://localhost:8080/"
        },
        "outputId": "198f25e8-12c2-4a6d-e5e0-fcdde467a166"
      },
      "execution_count": 9,
      "outputs": [
        {
          "output_type": "stream",
          "name": "stdout",
          "text": [
            "=== English to Sanskrit Translator ===\n",
            "\n",
            "Enter the English text: who are you \n",
            "\n",
            "Translating using Groq...\n",
            "\n",
            "Sanskrit Translation:\n",
            "The translation of \"who are you\" in Sanskrit is \"tvam kaḥ\" (त्वम् कः).\n",
            "\n",
            "Here's a breakdown of the translation:\n",
            "- \"tvam\" (त्वम्) means \"you\"\n",
            "- \"kaḥ\" (कः) means \"who\"\n"
          ]
        }
      ]
    },
    {
      "cell_type": "code",
      "source": [],
      "metadata": {
        "id": "tvi8swD-YjMQ"
      },
      "execution_count": null,
      "outputs": []
    }
  ]
}